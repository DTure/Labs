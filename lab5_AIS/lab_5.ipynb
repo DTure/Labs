{
 "cells": [
  {
   "cell_type": "code",
   "execution_count": 45,
   "metadata": {},
   "outputs": [],
   "source": [
    "import matplotlib\n",
    "from sklearn.datasets import load_wine\n",
    "from sklearn.pipeline import Pipeline\n",
    "from sklearn.preprocessing import StandardScaler\n",
    "from sklearn.linear_model import LogisticRegression\n",
    "from sklearn.metrics import ConfusionMatrixDisplay\n",
    "from sklearn.metrics import balanced_accuracy_score, f1_score\n",
    "from sklearn.model_selection import cross_validate, train_test_split\n",
    "from sklearn.model_selection import GridSearchCV\n",
    "from matplotlib import pyplot as plt\n",
    "import numpy as np\n",
    "from sklearn.tree import DecisionTreeClassifier\n",
    "from sklearn.svm import SVC\n",
    "from sklearn.neighbors import KNeighborsClassifier\n",
    "from sklearn.neural_network import MLPClassifier\n",
    "\n",
    "matplotlib.interactive(True)"
   ]
  },
  {
   "cell_type": "code",
   "execution_count": 46,
   "metadata": {},
   "outputs": [],
   "source": [
    "# Prepare dataset\n",
    "dataset = load_wine()\n",
    "target_names = dataset.target_names\n",
    "X = dataset.data\n",
    "y = dataset.target\n",
    "X_train, X_test, y_train, y_test = train_test_split(X, y, random_state=42)"
   ]
  },
  {
   "cell_type": "code",
   "execution_count": 47,
   "metadata": {},
   "outputs": [
    {
     "name": "stdout",
     "output_type": "stream",
     "text": [
      "Train score :  1.0\n",
      "Test score :  0.9775\n"
     ]
    }
   ],
   "source": [
    "# Evaluation with cross-validation\n",
    "pipeline = Pipeline([\n",
    "    (\"scaler\", StandardScaler()),\n",
    "    (\"model\", LogisticRegression())\n",
    "])\n",
    "\n",
    "model_score = cross_validate(pipeline, X_train, y_train, return_train_score=True)\n",
    "print(\"Train score : \",round(model_score[\"train_score\"].mean(), 4))\n",
    "print(\"Test score : \",round(model_score[\"test_score\"].mean(), 4))"
   ]
  },
  {
   "cell_type": "code",
   "execution_count": 48,
   "metadata": {},
   "outputs": [
    {
     "name": "stdout",
     "output_type": "stream",
     "text": [
      "Score for DecisionTreeClassifier() is 0.9399\n",
      "Score for SVC() is 0.9698\n",
      "Score for KNeighborsClassifier() is 0.9479\n",
      "Score for MLPClassifier(max_iter=300, random_state=42) is 0.9701\n"
     ]
    }
   ],
   "source": [
    "# Comparison of different classifiers\n",
    "classifiers = [\n",
    "    DecisionTreeClassifier(),\n",
    "    SVC(),\n",
    "    KNeighborsClassifier(),\n",
    "    MLPClassifier(max_iter=300, random_state=42)  \n",
    "]\n",
    "\n",
    "for classifier in classifiers:\n",
    "    pipeline.set_params(model = classifier)\n",
    "    model_score = cross_validate(pipeline, X_train, y_train)\n",
    "    print(f\"Score for {classifier} is {model_score['test_score'].mean():.4f}\")"
   ]
  },
  {
   "cell_type": "code",
   "execution_count": 49,
   "metadata": {},
   "outputs": [
    {
     "name": "stdout",
     "output_type": "stream",
     "text": [
      "Best parameters: {'model__activation': 'logistic', 'model__alpha': 0.001, 'model__hidden_layer_sizes': (100, 50), 'model__learning_rate': 'constant', 'model__learning_rate_init': 0.1, 'model__solver': 'adam'}\n",
      "Best cross-validation score: 0.9925925925925926\n",
      "Mean accuracy: 0.9778 F1 weighted: 0.9779\n"
     ]
    },
    {
     "data": {
      "image/png": "[encoded data removed]",
      "text/plain": [
       "<Figure size 640x480 with 2 Axes>"
      ]
     },
     "metadata": {},
     "output_type": "display_data"
    }
   ],
   "source": [
    "# Setting up hyperparameters\n",
    "pipeline.set_params(model=MLPClassifier(max_iter=300, random_state=42))\n",
    "params_grid = {\n",
    "    \"model__hidden_layer_sizes\": [(100,), (150,), (200,), (100, 50), (150, 75)],  \n",
    "    \"model__activation\": ['relu', 'tanh', 'logistic'],  \n",
    "    \"model__solver\": ['adam', 'lbfgs', 'sgd'],  \n",
    "    \"model__alpha\": [0.0001, 0.001, 0.01],  \n",
    "    \"model__learning_rate\": ['constant', 'adaptive'],  \n",
    "    \"model__learning_rate_init\": [0.001, 0.01, 0.1]  \n",
    "}\n",
    "\n",
    "# Search for optimal hyperparameters\n",
    "grid_search_cv = GridSearchCV(pipeline, params_grid, cv=5, n_jobs=-1)\n",
    "grid_search_cv.fit(X_train, y_train)\n",
    "\n",
    "print(\"Best parameters:\", grid_search_cv.best_params_)\n",
    "print(\"Best cross-validation score:\", grid_search_cv.best_score_)\n",
    "\n",
    "# Evaluation of the results \n",
    "best_estimator: Pipeline = grid_search_cv.best_estimator_\n",
    "y_predicted = best_estimator.predict(X_test)\n",
    "\n",
    "class_mapping = np.vectorize(lambda value: target_names[value])\n",
    "y_classes_predicted = class_mapping(y_predicted)\n",
    "y_classes_test = class_mapping(y_test)\n",
    "\n",
    "print(f\"Mean accuracy: {np.mean(y_predicted == y_test):.4f}\", \n",
    "      f\"F1 weighted: {f1_score(y_test, y_predicted, average='weighted'):.4f}\")\n",
    "\n",
    "# Visualization of the confusion matrix\n",
    "ConfusionMatrixDisplay.from_predictions(y_classes_test, y_classes_predicted)\n",
    "plt.tight_layout()\n",
    "plt.show()"
   ]
  }
 ],
 "metadata": {
  "kernelspec": {
   "display_name": "Python 3",
   "language": "python",
   "name": "python3"
  },
  "language_info": {
   "codemirror_mode": {
    "name": "ipython",
    "version": 3
   },
   "file_extension": ".py",
   "mimetype": "text/x-python",
   "name": "python",
   "nbconvert_exporter": "python",
   "pygments_lexer": "ipython3",
   "version": "3.12.2"
  }
 },
 "nbformat": 4,
 "nbformat_minor": 2
}
